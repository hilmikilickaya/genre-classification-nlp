{
 "cells": [
  {
   "cell_type": "code",
   "execution_count": 1,
   "metadata": {},
   "outputs": [],
   "source": [
    "import pandas as pd\n",
    "import numpy as np\n",
    "import nltk\n",
    "import matplotlib.pyplot as plt\n",
    "import seaborn as sns\n",
    "%matplotlib inline"
   ]
  },
  {
   "cell_type": "code",
   "execution_count": 2,
   "metadata": {},
   "outputs": [],
   "source": [
    "import re\n",
    "import string\n",
    "from nltk.corpus import stopwords\n",
    "from nltk.stem import PorterStemmer, WordNetLemmatizer\n",
    "from sklearn.feature_extraction.text import TfidfVectorizer\n",
    "from sklearn.pipeline import Pipeline\n",
    "from sklearn.model_selection import train_test_split\n",
    "from sklearn.feature_selection import SelectKBest, chi2\n",
    "from sqlite3 import Error\n",
    "from sklearn.ensemble import RandomForestClassifier\n",
    "from sklearn.neighbors import KNeighborsClassifier\n",
    "from sklearn.tree import DecisionTreeClassifier\n",
    "from sklearn.ensemble import RandomForestClassifier\n",
    "from sklearn.linear_model import LogisticRegression, SGDClassifier\n",
    "from sklearn.naive_bayes import MultinomialNB\n",
    "from sklearn.svm import SVC\n",
    "from sklearn.metrics import classification_report, accuracy_score, confusion_matrix\n",
    "from sklearn.feature_extraction.text import TfidfTransformer, CountVectorizer\n",
    "from sklearn.decomposition import PCA, TruncatedSVD\n",
    "from sklearn.model_selection import GridSearchCV\n",
    "from sklearn import svm\n",
    "from sklearn.metrics import roc_curve\n",
    "from wordcloud import WordCloud, STOPWORDS\n",
    "from PIL import Image\n",
    "import sqlite3\n",
    "import pickle\n"
   ]
  },
  {
   "cell_type": "code",
   "execution_count": 3,
   "metadata": {},
   "outputs": [
    {
     "name": "stdout",
     "output_type": "stream",
     "text": [
      "<class 'pandas.core.frame.DataFrame'>\n",
      "RangeIndex: 5760 entries, 0 to 5759\n",
      "Data columns (total 21 columns):\n",
      " #   Column            Non-Null Count  Dtype  \n",
      "---  ------            --------------  -----  \n",
      " 0   date              5760 non-null   object \n",
      " 1   title             5760 non-null   object \n",
      " 2   artist            5760 non-null   object \n",
      " 3   weeks             5760 non-null   int64  \n",
      " 4   rank              5760 non-null   int64  \n",
      " 5   change            5760 non-null   object \n",
      " 6   broad_genre       5760 non-null   object \n",
      " 7   energy            5760 non-null   float64\n",
      " 8   liveness          5760 non-null   float64\n",
      " 9   tempo             5760 non-null   float64\n",
      " 10  speechiness       5760 non-null   float64\n",
      " 11  acousticness      5760 non-null   float64\n",
      " 12  instrumentalness  5760 non-null   float64\n",
      " 13  time_signature    5760 non-null   object \n",
      " 14  danceability      5760 non-null   float64\n",
      " 15  key               5760 non-null   float64\n",
      " 16  duration_ms       5760 non-null   object \n",
      " 17  loudness          5760 non-null   object \n",
      " 18  valence           5760 non-null   float64\n",
      " 19  mode              5760 non-null   float64\n",
      " 20  lyrics            5760 non-null   object \n",
      "dtypes: float64(10), int64(2), object(9)\n",
      "memory usage: 945.1+ KB\n"
     ]
    }
   ],
   "source": [
    "df = pd.read_csv('data/Billboard_cleaned.csv')\n",
    "df.info()"
   ]
  },
  {
   "cell_type": "code",
   "execution_count": 4,
   "metadata": {
    "scrolled": true
   },
   "outputs": [
    {
     "data": {
      "text/html": [
       "<div>\n",
       "<style scoped>\n",
       "    .dataframe tbody tr th:only-of-type {\n",
       "        vertical-align: middle;\n",
       "    }\n",
       "\n",
       "    .dataframe tbody tr th {\n",
       "        vertical-align: top;\n",
       "    }\n",
       "\n",
       "    .dataframe thead th {\n",
       "        text-align: right;\n",
       "    }\n",
       "</style>\n",
       "<table border=\"1\" class=\"dataframe\">\n",
       "  <thead>\n",
       "    <tr style=\"text-align: right;\">\n",
       "      <th></th>\n",
       "      <th>date</th>\n",
       "      <th>title</th>\n",
       "      <th>artist</th>\n",
       "      <th>weeks</th>\n",
       "      <th>rank</th>\n",
       "      <th>change</th>\n",
       "      <th>broad_genre</th>\n",
       "      <th>energy</th>\n",
       "      <th>liveness</th>\n",
       "      <th>tempo</th>\n",
       "      <th>...</th>\n",
       "      <th>acousticness</th>\n",
       "      <th>instrumentalness</th>\n",
       "      <th>time_signature</th>\n",
       "      <th>danceability</th>\n",
       "      <th>key</th>\n",
       "      <th>duration_ms</th>\n",
       "      <th>loudness</th>\n",
       "      <th>valence</th>\n",
       "      <th>mode</th>\n",
       "      <th>lyrics</th>\n",
       "    </tr>\n",
       "  </thead>\n",
       "  <tbody>\n",
       "    <tr>\n",
       "      <th>0</th>\n",
       "      <td>12/31/17</td>\n",
       "      <td>1-800-273-8255</td>\n",
       "      <td>logic</td>\n",
       "      <td>35</td>\n",
       "      <td>34</td>\n",
       "      <td>0</td>\n",
       "      <td>rap</td>\n",
       "      <td>0.572</td>\n",
       "      <td>0.1920</td>\n",
       "      <td>100.015</td>\n",
       "      <td>...</td>\n",
       "      <td>0.57000</td>\n",
       "      <td>0.000000</td>\n",
       "      <td>4</td>\n",
       "      <td>0.629</td>\n",
       "      <td>5.0</td>\n",
       "      <td>250173</td>\n",
       "      <td>-7.733</td>\n",
       "      <td>0.3860</td>\n",
       "      <td>0.0</td>\n",
       "      <td>I've been on the low\\nI been taking my time\\nI...</td>\n",
       "    </tr>\n",
       "    <tr>\n",
       "      <th>1</th>\n",
       "      <td>12/31/17</td>\n",
       "      <td>All I Want For Christmas Is You</td>\n",
       "      <td>mariah carey</td>\n",
       "      <td>24</td>\n",
       "      <td>13</td>\n",
       "      <td>-4</td>\n",
       "      <td>r&amp;b</td>\n",
       "      <td>0.625</td>\n",
       "      <td>0.0708</td>\n",
       "      <td>150.277</td>\n",
       "      <td>...</td>\n",
       "      <td>0.16400</td>\n",
       "      <td>0.000000</td>\n",
       "      <td>4</td>\n",
       "      <td>0.335</td>\n",
       "      <td>7.0</td>\n",
       "      <td>241107</td>\n",
       "      <td>-7.462</td>\n",
       "      <td>0.3460</td>\n",
       "      <td>1.0</td>\n",
       "      <td>I don't want a lot for Christmas\\nThere is jus...</td>\n",
       "    </tr>\n",
       "    <tr>\n",
       "      <th>2</th>\n",
       "      <td>12/31/17</td>\n",
       "      <td>Bank Account</td>\n",
       "      <td>21 savage</td>\n",
       "      <td>25</td>\n",
       "      <td>28</td>\n",
       "      <td>7</td>\n",
       "      <td>rap</td>\n",
       "      <td>0.346</td>\n",
       "      <td>0.0871</td>\n",
       "      <td>75.016</td>\n",
       "      <td>...</td>\n",
       "      <td>0.01510</td>\n",
       "      <td>0.000007</td>\n",
       "      <td>4</td>\n",
       "      <td>0.884</td>\n",
       "      <td>8.0</td>\n",
       "      <td>220307</td>\n",
       "      <td>-8.228</td>\n",
       "      <td>0.3760</td>\n",
       "      <td>0.0</td>\n",
       "      <td>I buy a new car for the bitch (for real)\\nI te...</td>\n",
       "    </tr>\n",
       "    <tr>\n",
       "      <th>3</th>\n",
       "      <td>12/31/17</td>\n",
       "      <td>Betrayed</td>\n",
       "      <td>lil xan</td>\n",
       "      <td>7</td>\n",
       "      <td>75</td>\n",
       "      <td>2</td>\n",
       "      <td>rap</td>\n",
       "      <td>0.419</td>\n",
       "      <td>0.1050</td>\n",
       "      <td>119.958</td>\n",
       "      <td>...</td>\n",
       "      <td>0.41600</td>\n",
       "      <td>0.000000</td>\n",
       "      <td>4</td>\n",
       "      <td>0.823</td>\n",
       "      <td>10.0</td>\n",
       "      <td>187453</td>\n",
       "      <td>-10.358</td>\n",
       "      <td>0.2770</td>\n",
       "      <td>0.0</td>\n",
       "      <td>Pop the trunk I open up I sold my soul for a g...</td>\n",
       "    </tr>\n",
       "    <tr>\n",
       "      <th>4</th>\n",
       "      <td>12/31/17</td>\n",
       "      <td>Black &amp; Chinese</td>\n",
       "      <td>huncho jack</td>\n",
       "      <td>1</td>\n",
       "      <td>71</td>\n",
       "      <td>New</td>\n",
       "      <td>rap</td>\n",
       "      <td>0.842</td>\n",
       "      <td>0.1230</td>\n",
       "      <td>159.132</td>\n",
       "      <td>...</td>\n",
       "      <td>0.00277</td>\n",
       "      <td>0.000974</td>\n",
       "      <td>4</td>\n",
       "      <td>0.663</td>\n",
       "      <td>1.0</td>\n",
       "      <td>172017</td>\n",
       "      <td>-4.152</td>\n",
       "      <td>0.3460</td>\n",
       "      <td>1.0</td>\n",
       "      <td>What's the problem? What's the problem?\\nIn th...</td>\n",
       "    </tr>\n",
       "    <tr>\n",
       "      <th>...</th>\n",
       "      <td>...</td>\n",
       "      <td>...</td>\n",
       "      <td>...</td>\n",
       "      <td>...</td>\n",
       "      <td>...</td>\n",
       "      <td>...</td>\n",
       "      <td>...</td>\n",
       "      <td>...</td>\n",
       "      <td>...</td>\n",
       "      <td>...</td>\n",
       "      <td>...</td>\n",
       "      <td>...</td>\n",
       "      <td>...</td>\n",
       "      <td>...</td>\n",
       "      <td>...</td>\n",
       "      <td>...</td>\n",
       "      <td>...</td>\n",
       "      <td>...</td>\n",
       "      <td>...</td>\n",
       "      <td>...</td>\n",
       "      <td>...</td>\n",
       "    </tr>\n",
       "    <tr>\n",
       "      <th>2686</th>\n",
       "      <td>1/22/00</td>\n",
       "      <td>We Can't Be Friends</td>\n",
       "      <td>deborah cox</td>\n",
       "      <td>20</td>\n",
       "      <td>97</td>\n",
       "      <td>-17</td>\n",
       "      <td>r&amp;b</td>\n",
       "      <td>0.436</td>\n",
       "      <td>0.1190</td>\n",
       "      <td>119.910</td>\n",
       "      <td>...</td>\n",
       "      <td>0.04090</td>\n",
       "      <td>0.000000</td>\n",
       "      <td>4</td>\n",
       "      <td>0.556</td>\n",
       "      <td>7.0</td>\n",
       "      <td>281200</td>\n",
       "      <td>-7.906</td>\n",
       "      <td>0.0799</td>\n",
       "      <td>1.0</td>\n",
       "      <td>To just act like we never were\\nTo come around...</td>\n",
       "    </tr>\n",
       "    <tr>\n",
       "      <th>2687</th>\n",
       "      <td>1/22/00</td>\n",
       "      <td>Will 2K</td>\n",
       "      <td>will smith</td>\n",
       "      <td>13</td>\n",
       "      <td>100</td>\n",
       "      <td>-43</td>\n",
       "      <td>rap</td>\n",
       "      <td>0.783</td>\n",
       "      <td>0.6280</td>\n",
       "      <td>117.934</td>\n",
       "      <td>...</td>\n",
       "      <td>0.06920</td>\n",
       "      <td>0.000000</td>\n",
       "      <td>4</td>\n",
       "      <td>0.827</td>\n",
       "      <td>9.0</td>\n",
       "      <td>233907</td>\n",
       "      <td>-3.918</td>\n",
       "      <td>0.8320</td>\n",
       "      <td>0.0</td>\n",
       "      <td>INSTRUMENTAL</td>\n",
       "    </tr>\n",
       "    <tr>\n",
       "      <th>2688</th>\n",
       "      <td>1/15/00</td>\n",
       "      <td>Give You What You Want (Fa Sure)</td>\n",
       "      <td>chico debarge</td>\n",
       "      <td>13</td>\n",
       "      <td>94</td>\n",
       "      <td>-7</td>\n",
       "      <td>r&amp;b</td>\n",
       "      <td>0.714</td>\n",
       "      <td>0.0903</td>\n",
       "      <td>132.000</td>\n",
       "      <td>...</td>\n",
       "      <td>0.01180</td>\n",
       "      <td>0.000000</td>\n",
       "      <td>4</td>\n",
       "      <td>0.854</td>\n",
       "      <td>10.0</td>\n",
       "      <td>280067</td>\n",
       "      <td>-7.342</td>\n",
       "      <td>0.7820</td>\n",
       "      <td>0.0</td>\n",
       "      <td>Gonna get it, get it, get it, get it\\nBaby, ba...</td>\n",
       "    </tr>\n",
       "    <tr>\n",
       "      <th>2689</th>\n",
       "      <td>1/8/00</td>\n",
       "      <td>Left &amp; Right</td>\n",
       "      <td>d'angelo</td>\n",
       "      <td>5</td>\n",
       "      <td>91</td>\n",
       "      <td>-21</td>\n",
       "      <td>r&amp;b</td>\n",
       "      <td>0.405</td>\n",
       "      <td>0.3830</td>\n",
       "      <td>92.115</td>\n",
       "      <td>...</td>\n",
       "      <td>0.23500</td>\n",
       "      <td>0.000000</td>\n",
       "      <td>4</td>\n",
       "      <td>0.838</td>\n",
       "      <td>1.0</td>\n",
       "      <td>286467</td>\n",
       "      <td>-9.684</td>\n",
       "      <td>0.8430</td>\n",
       "      <td>1.0</td>\n",
       "      <td>Yo, yo\\nMy flows remarkable\\n\\nDoc walk like K...</td>\n",
       "    </tr>\n",
       "    <tr>\n",
       "      <th>2690</th>\n",
       "      <td>1/8/00</td>\n",
       "      <td>The Christmas Song (Chestnuts Roasting On An O...</td>\n",
       "      <td>christina aguilera</td>\n",
       "      <td>4</td>\n",
       "      <td>18</td>\n",
       "      <td>0</td>\n",
       "      <td>r&amp;b</td>\n",
       "      <td>0.300</td>\n",
       "      <td>0.1050</td>\n",
       "      <td>71.310</td>\n",
       "      <td>...</td>\n",
       "      <td>0.88400</td>\n",
       "      <td>0.000000</td>\n",
       "      <td>4</td>\n",
       "      <td>0.392</td>\n",
       "      <td>2.0</td>\n",
       "      <td>264960</td>\n",
       "      <td>-8.452</td>\n",
       "      <td>0.1470</td>\n",
       "      <td>1.0</td>\n",
       "      <td>Chestnuts roasting on an open fire\\nJack Frost...</td>\n",
       "    </tr>\n",
       "  </tbody>\n",
       "</table>\n",
       "<p>2691 rows × 21 columns</p>\n",
       "</div>"
      ],
      "text/plain": [
       "          date                                              title  \\\n",
       "0     12/31/17                                     1-800-273-8255   \n",
       "1     12/31/17                    All I Want For Christmas Is You   \n",
       "2     12/31/17                                       Bank Account   \n",
       "3     12/31/17                                           Betrayed   \n",
       "4     12/31/17                                    Black & Chinese   \n",
       "...        ...                                                ...   \n",
       "2686   1/22/00                                We Can't Be Friends   \n",
       "2687   1/22/00                                            Will 2K   \n",
       "2688   1/15/00                   Give You What You Want (Fa Sure)   \n",
       "2689    1/8/00                                       Left & Right   \n",
       "2690    1/8/00  The Christmas Song (Chestnuts Roasting On An O...   \n",
       "\n",
       "                  artist  weeks  rank change broad_genre  energy  liveness  \\\n",
       "0                  logic     35    34      0         rap   0.572    0.1920   \n",
       "1           mariah carey     24    13     -4         r&b   0.625    0.0708   \n",
       "2              21 savage     25    28      7         rap   0.346    0.0871   \n",
       "3                lil xan      7    75      2         rap   0.419    0.1050   \n",
       "4            huncho jack      1    71    New         rap   0.842    0.1230   \n",
       "...                  ...    ...   ...    ...         ...     ...       ...   \n",
       "2686         deborah cox     20    97    -17         r&b   0.436    0.1190   \n",
       "2687          will smith     13   100    -43         rap   0.783    0.6280   \n",
       "2688       chico debarge     13    94     -7         r&b   0.714    0.0903   \n",
       "2689            d'angelo      5    91    -21         r&b   0.405    0.3830   \n",
       "2690  christina aguilera      4    18      0         r&b   0.300    0.1050   \n",
       "\n",
       "        tempo  ...  acousticness  instrumentalness  time_signature  \\\n",
       "0     100.015  ...       0.57000          0.000000               4   \n",
       "1     150.277  ...       0.16400          0.000000               4   \n",
       "2      75.016  ...       0.01510          0.000007               4   \n",
       "3     119.958  ...       0.41600          0.000000               4   \n",
       "4     159.132  ...       0.00277          0.000974               4   \n",
       "...       ...  ...           ...               ...             ...   \n",
       "2686  119.910  ...       0.04090          0.000000               4   \n",
       "2687  117.934  ...       0.06920          0.000000               4   \n",
       "2688  132.000  ...       0.01180          0.000000               4   \n",
       "2689   92.115  ...       0.23500          0.000000               4   \n",
       "2690   71.310  ...       0.88400          0.000000               4   \n",
       "\n",
       "     danceability   key  duration_ms loudness valence  mode  \\\n",
       "0           0.629   5.0       250173   -7.733  0.3860   0.0   \n",
       "1           0.335   7.0       241107   -7.462  0.3460   1.0   \n",
       "2           0.884   8.0       220307   -8.228  0.3760   0.0   \n",
       "3           0.823  10.0       187453  -10.358  0.2770   0.0   \n",
       "4           0.663   1.0       172017   -4.152  0.3460   1.0   \n",
       "...           ...   ...          ...      ...     ...   ...   \n",
       "2686        0.556   7.0       281200   -7.906  0.0799   1.0   \n",
       "2687        0.827   9.0       233907   -3.918  0.8320   0.0   \n",
       "2688        0.854  10.0       280067   -7.342  0.7820   0.0   \n",
       "2689        0.838   1.0       286467   -9.684  0.8430   1.0   \n",
       "2690        0.392   2.0       264960   -8.452  0.1470   1.0   \n",
       "\n",
       "                                                 lyrics  \n",
       "0     I've been on the low\\nI been taking my time\\nI...  \n",
       "1     I don't want a lot for Christmas\\nThere is jus...  \n",
       "2     I buy a new car for the bitch (for real)\\nI te...  \n",
       "3     Pop the trunk I open up I sold my soul for a g...  \n",
       "4     What's the problem? What's the problem?\\nIn th...  \n",
       "...                                                 ...  \n",
       "2686  To just act like we never were\\nTo come around...  \n",
       "2687                                       INSTRUMENTAL  \n",
       "2688  Gonna get it, get it, get it, get it\\nBaby, ba...  \n",
       "2689  Yo, yo\\nMy flows remarkable\\n\\nDoc walk like K...  \n",
       "2690  Chestnuts roasting on an open fire\\nJack Frost...  \n",
       "\n",
       "[2691 rows x 21 columns]"
      ]
     },
     "execution_count": 4,
     "metadata": {},
     "output_type": "execute_result"
    }
   ],
   "source": [
    "rap_rb = df[(df['broad_genre'] == 'rap') | (df['broad_genre'] == 'r&b')].copy().reset_index(drop=True)\n",
    "rap_rb\n"
   ]
  },
  {
   "cell_type": "code",
   "execution_count": 5,
   "metadata": {},
   "outputs": [],
   "source": [
    "wordnet = WordNetLemmatizer()\n",
    "words = stopwords.words(\"english\")\n",
    "rap_rb['cleaned'] = rap_rb['lyrics'].apply(lambda x: \" \".join([wordnet.lemmatize(i) for i in re.sub(\"[^a-zA-Z^\\n\\d+\\s^\\s+|\\s+?$]\", \" \", x).split() if i not in words]).lower())"
   ]
  },
  {
   "cell_type": "code",
   "execution_count": 6,
   "metadata": {},
   "outputs": [],
   "source": [
    "#first we split our dataset into testing and training set:\n",
    "# this block is to split the dataset into training and testing set \n",
    "X = rap_rb['cleaned']\n",
    "y = rap_rb['broad_genre']\n",
    "X_train, X_test, y_train, y_test = train_test_split(X, y, test_size=0.2)"
   ]
  },
  {
   "cell_type": "code",
   "execution_count": 7,
   "metadata": {},
   "outputs": [
    {
     "data": {
      "text/plain": [
       "(2152, 46594)"
      ]
     },
     "execution_count": 7,
     "metadata": {},
     "output_type": "execute_result"
    }
   ],
   "source": [
    "vec = TfidfVectorizer(min_df= 2, stop_words=\"english\", sublinear_tf=True, norm='l2',ngram_range=(1, 2))\n",
    "vec_ft = vec.fit_transform(X_train)\n",
    "vec_ft.shape"
   ]
  },
  {
   "cell_type": "code",
   "execution_count": 8,
   "metadata": {},
   "outputs": [
    {
     "data": {
      "text/plain": [
       "<bound method spmatrix.todense of <2152x46594 sparse matrix of type '<class 'numpy.float64'>'\n",
       "\twith 358305 stored elements in Compressed Sparse Row format>>"
      ]
     },
     "execution_count": 8,
     "metadata": {},
     "output_type": "execute_result"
    }
   ],
   "source": [
    "vec_ft.todense"
   ]
  },
  {
   "cell_type": "code",
   "execution_count": 9,
   "metadata": {},
   "outputs": [],
   "source": [
    "rf = RandomForestClassifier(n_estimators=300)"
   ]
  },
  {
   "cell_type": "code",
   "execution_count": 10,
   "metadata": {},
   "outputs": [
    {
     "data": {
      "text/plain": [
       "RandomForestClassifier(n_estimators=300)"
      ]
     },
     "execution_count": 10,
     "metadata": {},
     "output_type": "execute_result"
    }
   ],
   "source": [
    "rf.fit(vec_ft,y_train)"
   ]
  },
  {
   "cell_type": "code",
   "execution_count": 11,
   "metadata": {},
   "outputs": [
    {
     "data": {
      "text/plain": [
       "(539, 46594)"
      ]
     },
     "execution_count": 11,
     "metadata": {},
     "output_type": "execute_result"
    }
   ],
   "source": [
    "vec_ft_test = vec.transform(X_test)\n",
    "vec_ft_test.shape"
   ]
  },
  {
   "cell_type": "code",
   "execution_count": 12,
   "metadata": {},
   "outputs": [
    {
     "data": {
      "text/plain": [
       "0.7922077922077922"
      ]
     },
     "execution_count": 12,
     "metadata": {},
     "output_type": "execute_result"
    }
   ],
   "source": [
    "rf.score(vec_ft_test,y_test)"
   ]
  },
  {
   "cell_type": "code",
   "execution_count": 50,
   "metadata": {},
   "outputs": [
    {
     "name": "stdout",
     "output_type": "stream",
     "text": [
      "              precision    recall  f1-score   support\n",
      "\n",
      "         r&b       0.77      0.76      0.76       241\n",
      "         rap       0.81      0.82      0.81       298\n",
      "\n",
      "    accuracy                           0.79       539\n",
      "   macro avg       0.79      0.79      0.79       539\n",
      "weighted avg       0.79      0.79      0.79       539\n",
      "\n",
      "[[182  59]\n",
      " [ 53 245]]\n"
     ]
    },
    {
     "data": {
      "image/png": "[encoded data removed]",
      "text/plain": [
       "<Figure size 576x432 with 2 Axes>"
      ]
     },
     "metadata": {
      "needs_background": "light"
     },
     "output_type": "display_data"
    }
   ],
   "source": [
    "# confusion matrix and classification report(precision, recall, F1-score)\n",
    "print(classification_report(y_test, rf.predict(vec_ft_test)))\n",
    "print(confusion_matrix(y_test, rf.predict(vec_ft_test)))\n",
    "categories=['R&B','Rap']\n",
    "fig, ax = plt.subplots(figsize=(8,6))    \n",
    "sns.heatmap(confusion_matrix(y_test, rf.predict(vec_ft_test)), annot=True, fmt='g', xticklabels=categories, yticklabels=categories, ax=ax,cmap=\"YlGnBu\")\n",
    "ax.set_title('Confusion Matrix for R&B - Rap', fontsize=20)\n",
    "ax.set_xlabel('Predicted',fontsize=15)\n",
    "ax.set_ylabel('Actual',fontsize=15)\n",
    "plt.tick_params(axis='both', which='major', labelbottom = False, bottom=False, top = False, labeltop=True)\n",
    "#plt.savefig('rap_r&_heatmap.png')"
   ]
  },
  {
   "cell_type": "code",
   "execution_count": 52,
   "metadata": {},
   "outputs": [
    {
     "data": {
      "text/plain": [
       "array(['hoe', 'cause', 'oh', 'girl', 'shit', 'nigga', 'love', 'baby',\n",
       "       'fuck', 'bitch'], dtype='<U29')"
      ]
     },
     "execution_count": 52,
     "metadata": {},
     "output_type": "execute_result"
    }
   ],
   "source": [
    "feat_names = vec.get_feature_names() \n",
    "feat_names = np.array(feat_names)\n",
    "importance = rf.feature_importances_\n",
    "importance\n",
    "indices = np.argsort(importance)[-10:]\n",
    "feat_names[np.argsort(importance)][-10:]"
   ]
  },
  {
   "cell_type": "code",
   "execution_count": 53,
   "metadata": {},
   "outputs": [
    {
     "data": {
      "image/png": "[encoded data removed]",
      "text/plain": [
       "<Figure size 432x288 with 1 Axes>"
      ]
     },
     "metadata": {
      "needs_background": "light"
     },
     "output_type": "display_data"
    }
   ],
   "source": [
    "rr = ['hoe', 'cause', 'oh', 'girl', 'shit', 'nigga', 'love', 'baby',\n",
    "       'fuck', 'bitch']\n",
    "\n",
    "plt.title('Feature Importances for Rap & R&B')\n",
    "plt.barh(range(len(indices)), importance[indices], color='black', align='center')\n",
    "plt.yticks(range(len(indices)),rr )\n",
    "plt.xlabel('Relative Importance')\n",
    "#plt.savefig('rap_r&b_feature_imp.png')\n",
    "plt.show()"
   ]
  },
  {
   "cell_type": "markdown",
   "metadata": {},
   "source": [
    "## Pop&Country"
   ]
  },
  {
   "cell_type": "code",
   "execution_count": 16,
   "metadata": {
    "scrolled": true
   },
   "outputs": [
    {
     "data": {
      "text/plain": [
       "country    1096\n",
       "pop        1070\n",
       "Name: broad_genre, dtype: int64"
      ]
     },
     "execution_count": 16,
     "metadata": {},
     "output_type": "execute_result"
    }
   ],
   "source": [
    "pop_country = df[(df['broad_genre'] == 'pop') | (df['broad_genre'] == 'country')].copy().reset_index(drop=True)\n",
    "pop_country['broad_genre'].value_counts()"
   ]
  },
  {
   "cell_type": "code",
   "execution_count": 17,
   "metadata": {},
   "outputs": [],
   "source": [
    "wordnet = WordNetLemmatizer()\n",
    "words = stopwords.words(\"english\")\n",
    "pop_country['cleaned'] = pop_country['lyrics'].apply(lambda x: \" \".join([wordnet.lemmatize(i) for i in re.sub(\"[^a-zA-Z^\\n\\d+\\s^\\s+|\\s+?$]\", \" \", x).split() if i not in words]).lower())"
   ]
  },
  {
   "cell_type": "code",
   "execution_count": 18,
   "metadata": {},
   "outputs": [],
   "source": [
    "#first we split our dataset into testing and training set:\n",
    "# this block is to split the dataset into training and testing set \n",
    "X1 = pop_country['cleaned']\n",
    "y1 = pop_country['broad_genre']\n",
    "X1_train, X1_test, y1_train, y1_test = train_test_split(X1, y1, test_size=0.2)"
   ]
  },
  {
   "cell_type": "code",
   "execution_count": 19,
   "metadata": {},
   "outputs": [
    {
     "data": {
      "text/plain": [
       "(1732, 20056)"
      ]
     },
     "execution_count": 19,
     "metadata": {},
     "output_type": "execute_result"
    }
   ],
   "source": [
    "vec1 = TfidfVectorizer(min_df= 2, stop_words=\"english\", sublinear_tf=True, norm='l2',ngram_range=(1, 2))\n",
    "vec_ft1 = vec1.fit_transform(X1_train)\n",
    "vec_ft1.shape"
   ]
  },
  {
   "cell_type": "code",
   "execution_count": 20,
   "metadata": {},
   "outputs": [
    {
     "data": {
      "text/plain": [
       "(434, 20056)"
      ]
     },
     "execution_count": 20,
     "metadata": {},
     "output_type": "execute_result"
    }
   ],
   "source": [
    "vec_ft1.todense\n",
    "vec_ft_test1 = vec1.transform(X1_test)\n",
    "vec_ft_test1.shape"
   ]
  },
  {
   "cell_type": "code",
   "execution_count": 21,
   "metadata": {},
   "outputs": [],
   "source": [
    "rf1 = RandomForestClassifier(n_estimators=300)"
   ]
  },
  {
   "cell_type": "code",
   "execution_count": 22,
   "metadata": {},
   "outputs": [
    {
     "data": {
      "text/plain": [
       "RandomForestClassifier(n_estimators=300)"
      ]
     },
     "execution_count": 22,
     "metadata": {},
     "output_type": "execute_result"
    }
   ],
   "source": [
    "rf1.fit(vec_ft1,y1_train)"
   ]
  },
  {
   "cell_type": "code",
   "execution_count": 23,
   "metadata": {},
   "outputs": [
    {
     "data": {
      "text/plain": [
       "0.7880184331797235"
      ]
     },
     "execution_count": 23,
     "metadata": {},
     "output_type": "execute_result"
    }
   ],
   "source": [
    "rf1.score(vec_ft_test1,y1_test)"
   ]
  },
  {
   "cell_type": "code",
   "execution_count": 54,
   "metadata": {},
   "outputs": [
    {
     "name": "stdout",
     "output_type": "stream",
     "text": [
      "              precision    recall  f1-score   support\n",
      "\n",
      "     country       0.76      0.83      0.80       215\n",
      "         pop       0.82      0.74      0.78       219\n",
      "\n",
      "    accuracy                           0.79       434\n",
      "   macro avg       0.79      0.79      0.79       434\n",
      "weighted avg       0.79      0.79      0.79       434\n",
      "\n",
      "[[179  36]\n",
      " [ 56 163]]\n"
     ]
    },
    {
     "data": {
      "image/png": "[encoded data removed]",
      "text/plain": [
       "<Figure size 576x432 with 2 Axes>"
      ]
     },
     "metadata": {
      "needs_background": "light"
     },
     "output_type": "display_data"
    }
   ],
   "source": [
    "# confusion matrix and classification report(precision, recall, F1-score)\n",
    "print(classification_report(y1_test, rf1.predict(vec_ft_test1)))\n",
    "print(confusion_matrix(y1_test, rf1.predict(vec_ft_test1)))\n",
    "categories=['Country','Pop']\n",
    "fig, ax = plt.subplots(figsize=(8,6))    \n",
    "sns.heatmap(confusion_matrix(y1_test, rf1.predict(vec_ft_test1)), annot=True, fmt='g', xticklabels=categories, yticklabels=categories, ax=ax,cmap=\"YlGnBu\")\n",
    "ax.set_title('Confusion Matrix for Country - Pop', fontsize=20)\n",
    "ax.set_xlabel('Predicted',fontsize=15)\n",
    "ax.set_ylabel('Actual',fontsize=15)\n",
    "plt.tick_params(axis='both', which='major', labelbottom = False, bottom=False, top = False, labeltop=True)\n",
    "#plt.savefig('country_pop_heatmap.png')"
   ]
  },
  {
   "cell_type": "code",
   "execution_count": 43,
   "metadata": {},
   "outputs": [
    {
     "data": {
      "text/plain": [
       "array(['good', 'road', 'country', 'oh', 'long', 'truck', 'town', 'man',\n",
       "       'old', 'little'], dtype='<U29')"
      ]
     },
     "execution_count": 43,
     "metadata": {},
     "output_type": "execute_result"
    }
   ],
   "source": [
    "feat_names1 = vec1.get_feature_names() \n",
    "feat_names1 = np.array(feat_names1)\n",
    "importance1 = rf1.feature_importances_\n",
    "importance1\n",
    "indices = np.argsort(importance1)[-10:]\n",
    "feat_names1[np.argsort(importance1)][-10:]"
   ]
  },
  {
   "cell_type": "code",
   "execution_count": 44,
   "metadata": {},
   "outputs": [
    {
     "data": {
      "image/png": "[encoded data removed]",
      "text/plain": [
       "<Figure size 432x288 with 1 Axes>"
      ]
     },
     "metadata": {
      "needs_background": "light"
     },
     "output_type": "display_data"
    }
   ],
   "source": [
    "pc = ['good', 'road', 'country', 'oh', 'long', 'truck', 'town', 'man',\n",
    "       'old', 'little']\n",
    "\n",
    "plt.title('Feature Importances for Pop & Country')\n",
    "plt.barh(range(len(indices)), importance1[indices], color='black', align='center')\n",
    "plt.yticks(range(len(indices)),pc )\n",
    "plt.xlabel('Relative Importance')\n",
    "#plt.savefig('pc_feature_imp.png')\n",
    "plt.show()"
   ]
  },
  {
   "cell_type": "markdown",
   "metadata": {},
   "source": [
    "## Rock&Pop"
   ]
  },
  {
   "cell_type": "code",
   "execution_count": 27,
   "metadata": {},
   "outputs": [
    {
     "data": {
      "text/plain": [
       "pop     1070\n",
       "rock     692\n",
       "Name: broad_genre, dtype: int64"
      ]
     },
     "execution_count": 27,
     "metadata": {},
     "output_type": "execute_result"
    }
   ],
   "source": [
    "pop_rock = df[(df['broad_genre'] == 'pop') | (df['broad_genre'] == 'rock')].copy().reset_index(drop=True)\n",
    "pop_rock['broad_genre'].value_counts()"
   ]
  },
  {
   "cell_type": "code",
   "execution_count": 28,
   "metadata": {},
   "outputs": [],
   "source": [
    "wordnet = WordNetLemmatizer()\n",
    "words = stopwords.words(\"english\")\n",
    "pop_rock['cleaned'] = pop_rock['lyrics'].apply(lambda x: \" \".join([wordnet.lemmatize(i) for i in re.sub(\"[^a-zA-Z^\\n\\d+\\s^\\s+|\\s+?$]\", \" \", x).split() if i not in words]).lower())"
   ]
  },
  {
   "cell_type": "code",
   "execution_count": 29,
   "metadata": {},
   "outputs": [],
   "source": [
    "X2 = pop_rock['cleaned']\n",
    "y2 = pop_rock['broad_genre']\n",
    "X2_train, X2_test, y2_train, y2_test = train_test_split(X2, y2, test_size=0.2,random_state=10)"
   ]
  },
  {
   "cell_type": "code",
   "execution_count": 30,
   "metadata": {},
   "outputs": [
    {
     "data": {
      "text/plain": [
       "(1409, 16153)"
      ]
     },
     "execution_count": 30,
     "metadata": {},
     "output_type": "execute_result"
    }
   ],
   "source": [
    "vec2 = TfidfVectorizer(min_df= 2, stop_words=\"english\", sublinear_tf=True, norm='l2',ngram_range=(1, 2))\n",
    "vec_ft2 = vec2.fit_transform(X2_train)\n",
    "vec_ft2.shape"
   ]
  },
  {
   "cell_type": "code",
   "execution_count": 31,
   "metadata": {},
   "outputs": [
    {
     "data": {
      "text/plain": [
       "(353, 16153)"
      ]
     },
     "execution_count": 31,
     "metadata": {},
     "output_type": "execute_result"
    }
   ],
   "source": [
    "vec_ft2.todense\n",
    "vec_ft_test2 = vec2.transform(X2_test)\n",
    "vec_ft_test2.shape"
   ]
  },
  {
   "cell_type": "code",
   "execution_count": 32,
   "metadata": {},
   "outputs": [],
   "source": [
    "rf2 = RandomForestClassifier(n_estimators=300)"
   ]
  },
  {
   "cell_type": "code",
   "execution_count": 33,
   "metadata": {},
   "outputs": [
    {
     "data": {
      "text/plain": [
       "RandomForestClassifier(n_estimators=300)"
      ]
     },
     "execution_count": 33,
     "metadata": {},
     "output_type": "execute_result"
    }
   ],
   "source": [
    "rf2.fit(vec_ft2,y2_train)"
   ]
  },
  {
   "cell_type": "code",
   "execution_count": 34,
   "metadata": {
    "scrolled": true
   },
   "outputs": [
    {
     "data": {
      "text/plain": [
       "array(['pop', 'pop', 'pop', 'pop', 'pop', 'pop', 'pop', 'pop', 'pop',\n",
       "       'pop', 'pop', 'pop', 'pop', 'pop', 'pop', 'pop', 'rock', 'pop',\n",
       "       'pop', 'pop', 'pop', 'pop', 'pop', 'rock', 'pop', 'rock', 'pop',\n",
       "       'pop', 'pop', 'pop', 'pop', 'pop', 'pop', 'pop', 'pop', 'pop',\n",
       "       'pop', 'rock', 'rock', 'rock', 'rock', 'pop', 'rock', 'pop', 'pop',\n",
       "       'pop', 'rock', 'pop', 'pop', 'pop', 'pop', 'pop', 'pop', 'pop',\n",
       "       'pop', 'pop', 'pop', 'pop', 'pop', 'pop', 'pop', 'pop', 'pop',\n",
       "       'rock', 'pop', 'pop', 'pop', 'rock', 'pop', 'pop', 'pop', 'pop',\n",
       "       'pop', 'pop', 'pop', 'pop', 'pop', 'pop', 'pop', 'pop', 'pop',\n",
       "       'rock', 'pop', 'pop', 'pop', 'rock', 'pop', 'pop', 'pop', 'pop',\n",
       "       'pop', 'pop', 'pop', 'pop', 'pop', 'pop', 'pop', 'pop', 'pop',\n",
       "       'pop', 'pop', 'pop', 'pop', 'pop', 'pop', 'pop', 'rock', 'pop',\n",
       "       'pop', 'pop', 'pop', 'pop', 'pop', 'pop', 'pop', 'pop', 'rock',\n",
       "       'pop', 'pop', 'pop', 'pop', 'pop', 'pop', 'pop', 'pop', 'pop',\n",
       "       'rock', 'pop', 'pop', 'rock', 'pop', 'pop', 'pop', 'pop', 'rock',\n",
       "       'pop', 'rock', 'pop', 'pop', 'pop', 'pop', 'pop', 'pop', 'pop',\n",
       "       'pop', 'rock', 'pop', 'pop', 'pop', 'pop', 'pop', 'pop', 'pop',\n",
       "       'pop', 'rock', 'rock', 'pop', 'pop', 'pop', 'pop', 'pop', 'pop',\n",
       "       'pop', 'pop', 'pop', 'pop', 'pop', 'pop', 'pop', 'rock', 'rock',\n",
       "       'pop', 'pop', 'pop', 'pop', 'rock', 'pop', 'pop', 'pop', 'pop',\n",
       "       'pop', 'pop', 'pop', 'pop', 'pop', 'rock', 'pop', 'pop', 'pop',\n",
       "       'pop', 'pop', 'pop', 'pop', 'pop', 'pop', 'pop', 'pop', 'rock',\n",
       "       'rock', 'pop', 'pop', 'pop', 'pop', 'pop', 'rock', 'pop', 'pop',\n",
       "       'pop', 'rock', 'pop', 'pop', 'pop', 'pop', 'pop', 'pop', 'pop',\n",
       "       'pop', 'pop', 'pop', 'pop', 'pop', 'pop', 'pop', 'pop', 'pop',\n",
       "       'rock', 'pop', 'pop', 'pop', 'pop', 'pop', 'pop', 'pop', 'rock',\n",
       "       'pop', 'rock', 'rock', 'pop', 'pop', 'pop', 'pop', 'pop', 'pop',\n",
       "       'pop', 'pop', 'rock', 'pop', 'pop', 'pop', 'pop', 'pop', 'pop',\n",
       "       'pop', 'pop', 'pop', 'pop', 'pop', 'pop', 'rock', 'pop', 'pop',\n",
       "       'pop', 'pop', 'pop', 'pop', 'pop', 'pop', 'pop', 'rock', 'pop',\n",
       "       'rock', 'pop', 'pop', 'pop', 'pop', 'pop', 'rock', 'rock', 'pop',\n",
       "       'pop', 'pop', 'pop', 'pop', 'pop', 'pop', 'rock', 'rock', 'pop',\n",
       "       'pop', 'rock', 'pop', 'pop', 'rock', 'rock', 'pop', 'pop', 'pop',\n",
       "       'rock', 'pop', 'pop', 'pop', 'pop', 'pop', 'pop', 'rock', 'rock',\n",
       "       'rock', 'pop', 'pop', 'pop', 'pop', 'pop', 'pop', 'pop', 'pop',\n",
       "       'pop', 'pop', 'pop', 'pop', 'pop', 'pop', 'pop', 'pop', 'pop',\n",
       "       'pop', 'pop', 'pop', 'rock', 'pop', 'pop', 'pop', 'pop', 'pop',\n",
       "       'pop', 'pop', 'pop', 'pop', 'pop', 'pop', 'pop', 'pop', 'pop',\n",
       "       'pop', 'pop', 'pop', 'rock', 'rock', 'pop', 'pop', 'pop', 'pop',\n",
       "       'pop', 'pop'], dtype=object)"
      ]
     },
     "execution_count": 34,
     "metadata": {},
     "output_type": "execute_result"
    }
   ],
   "source": [
    "rf2.predict(vec_ft_test2)"
   ]
  },
  {
   "cell_type": "code",
   "execution_count": 35,
   "metadata": {},
   "outputs": [
    {
     "data": {
      "text/plain": [
       "0.7025495750708215"
      ]
     },
     "execution_count": 35,
     "metadata": {},
     "output_type": "execute_result"
    }
   ],
   "source": [
    "rf2.score(vec_ft_test2,y2_test)"
   ]
  },
  {
   "cell_type": "code",
   "execution_count": 55,
   "metadata": {},
   "outputs": [
    {
     "name": "stdout",
     "output_type": "stream",
     "text": [
      "              precision    recall  f1-score   support\n",
      "\n",
      "         pop       0.69      0.95      0.80       220\n",
      "        rock       0.77      0.30      0.43       133\n",
      "\n",
      "    accuracy                           0.70       353\n",
      "   macro avg       0.73      0.62      0.62       353\n",
      "weighted avg       0.72      0.70      0.66       353\n",
      "\n",
      "[[208  12]\n",
      " [ 93  40]]\n"
     ]
    },
    {
     "data": {
      "image/png": "[encoded data removed]",
      "text/plain": [
       "<Figure size 576x432 with 2 Axes>"
      ]
     },
     "metadata": {
      "needs_background": "light"
     },
     "output_type": "display_data"
    }
   ],
   "source": [
    "# confusion matrix and classification report(precision, recall, F1-score)\n",
    "print(classification_report(y2_test, rf2.predict(vec_ft_test2)))\n",
    "print(confusion_matrix(y2_test, rf2.predict(vec_ft_test2)))\n",
    "categories=['Pop','Rock']\n",
    "fig, ax = plt.subplots(figsize=(8,6))    \n",
    "sns.heatmap(confusion_matrix(y2_test, rf2.predict(vec_ft_test2)), annot=True, fmt='g', xticklabels=categories, yticklabels=categories, ax=ax,cmap=\"YlGnBu\")\n",
    "ax.set_title('Confusion Matrix for Pop & Rock', fontsize=20)\n",
    "ax.set_xlabel('Predicted',fontsize=15)\n",
    "ax.set_ylabel('Actual',fontsize=15)\n",
    "plt.tick_params(axis='both', which='major', labelbottom = False, bottom=False, top = False, labeltop=True)\n",
    "#plt.savefig('pop_rock_heatmap.png')"
   ]
  },
  {
   "cell_type": "code",
   "execution_count": 37,
   "metadata": {},
   "outputs": [],
   "source": [
    "feat_names2 = vec2.get_feature_names() \n",
    "feat_names2 = np.array(feat_names2)"
   ]
  },
  {
   "cell_type": "code",
   "execution_count": 47,
   "metadata": {},
   "outputs": [
    {
     "data": {
      "text/plain": [
       "array(['start holding', 'knew love', 'hand little', 'breathin',\n",
       "       'little blue', 'saying run', 'sea fishin', 'homecoming',\n",
       "       'spinnin like', 'away need'], dtype='<U29')"
      ]
     },
     "execution_count": 47,
     "metadata": {},
     "output_type": "execute_result"
    }
   ],
   "source": [
    "importance2 = rf2.feature_importances_\n",
    "importance2\n",
    "indices = np.argsort(importance2)[-10:]\n",
    "feat_names1[np.argsort(importance2)][-10:]"
   ]
  },
  {
   "cell_type": "code",
   "execution_count": 48,
   "metadata": {},
   "outputs": [
    {
     "data": {
      "image/png": "[encoded data removed]",
      "text/plain": [
       "<Figure size 432x288 with 1 Axes>"
      ]
     },
     "metadata": {
      "needs_background": "light"
     },
     "output_type": "display_data"
    }
   ],
   "source": [
    "pop_rock = ['start holding', 'knew love', 'hand little', 'breathin',\n",
    "       'little blue', 'saying run', 'sea fishin', 'homecoming',\n",
    "       'spinnin like', 'away need']\n",
    "\n",
    "plt.title('Feature Importances for Pop & Rock')\n",
    "plt.barh(range(len(indices)), importance2[indices], color='black', align='center')\n",
    "plt.yticks(range(len(indices)),pop_rock )\n",
    "plt.xlabel('Relative Importance')\n",
    "#plt.savefig('pop_rock_feature_imp.png')\n",
    "plt.show()"
   ]
  }
 ],
 "metadata": {
  "kernelspec": {
   "display_name": "Python 3",
   "language": "python",
   "name": "python3"
  },
  "language_info": {
   "codemirror_mode": {
    "name": "ipython",
    "version": 3
   },
   "file_extension": ".py",
   "mimetype": "text/x-python",
   "name": "python",
   "nbconvert_exporter": "python",
   "pygments_lexer": "ipython3",
   "version": "3.7.9"
  }
 },
 "nbformat": 4,
 "nbformat_minor": 4
}
